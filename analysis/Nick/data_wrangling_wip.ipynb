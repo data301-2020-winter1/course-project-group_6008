{
 "cells": [
  {
   "cell_type": "code",
   "execution_count": 16,
   "metadata": {},
   "outputs": [],
   "source": [
    "import pandas as pd\n",
    "\n",
    "players_stats_og = pd.read_csv('/Users/Nick/Desktop/Final Project/data/raw/players_stats.csv')\n",
    "\n",
    "players_stats_university = (\n",
    "    players_stats_og[players_stats_og['Collage'].notnull()]\n",
    "    .reset_index()\n",
    "    .drop(columns=['index']) \n",
    "    )\n",
    "\n",
    "players_stats_university_wrangled = (\n",
    "    players_stats_university.rename(columns={'Pos' : 'Position'})\n",
    "    .sort_values(by = 'Position', ascending=False)\n",
    "    .reset_index()\n",
    "    .drop(columns = ['BMI', 'Height', 'Weight', 'Birth_Place', 'index'])\n",
    "    )\n",
    "\n",
    "players_stats_university_wrangled_PG = (\n",
    "    players_stats_university_wrangled.loc[players_stats_university_wrangled['Position'] == 'PG']\n",
    "    .sort_values(by = 'EFF', ascending=False)\n",
    "    .reset_index()\n",
    "    .drop(columns=['index'])\n",
    "    )\n",
    "\n",
    "players_stats_university_wrangled_SG = (\n",
    "    players_stats_university_wrangled.loc[players_stats_university_wrangled['Position'] == 'SG']\n",
    "    .sort_values(by = 'EFF', ascending=False)\n",
    "    .reset_index()\n",
    "    .drop(columns=['index'])\n",
    "    )\n",
    "\n",
    "players_stats_university_wrangled_PF = (\n",
    "    players_stats_university_wrangled.loc[players_stats_university_wrangled['Position'] == 'PF']\n",
    "    .sort_values(by = 'EFF', ascending=False)\n",
    "    .reset_index()\n",
    "    .drop(columns=['index'])\n",
    "    )\n",
    "\n",
    "players_stats_university_wrangled_SF = (\n",
    "    players_stats_university_wrangled.loc[players_stats_university_wrangled['Position'] == 'SF']\n",
    "    .sort_values(by = 'EFF', ascending=False)\n",
    "    .reset_index()\n",
    "    .drop(columns=['index'])\n",
    "    )\n",
    "\n",
    "players_stats_university_wrangled_C = (\n",
    "    players_stats_university_wrangled.loc[players_stats_university_wrangled['Position'] == 'C']\n",
    "    .sort_values(by = 'EFF', ascending=False)\n",
    "    .reset_index()\n",
    "    .drop(columns=['index'])\n",
    "    )"
   ]
  },
  {
   "cell_type": "code",
   "execution_count": null,
   "metadata": {},
   "outputs": [],
   "source": []
  }
 ],
 "metadata": {
  "kernelspec": {
   "display_name": "Python 3",
   "language": "python",
   "name": "python3"
  },
  "language_info": {
   "codemirror_mode": {
    "name": "ipython",
    "version": 3
   },
   "file_extension": ".py",
   "mimetype": "text/x-python",
   "name": "python",
   "nbconvert_exporter": "python",
   "pygments_lexer": "ipython3",
   "version": "3.8.3"
  }
 },
 "nbformat": 4,
 "nbformat_minor": 4
}
